{
 "cells": [
  {
   "cell_type": "code",
   "execution_count": 4,
   "id": "0d573f3a-a6b2-483d-8115-ae4b367c9a89",
   "metadata": {},
   "outputs": [
    {
     "name": "stdout",
     "output_type": "stream",
     "text": [
      "[ 1  2  3  4  5  6  7  8  9 10]\n",
      "[0.5  0.75 1.   1.25 1.5  1.75 2.   2.25 2.5  2.75 3.   3.25 3.5  3.75\n",
      " 4.   4.25 4.5  4.75]\n"
     ]
    }
   ],
   "source": [
    "import numpy as np\n",
    "# 1.\n",
    "# a. \n",
    "print(np.arange(1, 11))\n",
    "# b. \n",
    "print(np.arange(0.5, 5, 0.25, dtype=float))"
   ]
  },
  {
   "cell_type": "code",
   "execution_count": 14,
   "id": "164f18d0-4df1-4919-be60-868f91e9f27b",
   "metadata": {},
   "outputs": [
    {
     "name": "stdout",
     "output_type": "stream",
     "text": [
      "[0. 0. 0. 0. 0. 0. 0. 0. 0. 0.]\n",
      "[[0. 0. 0. 0.]\n",
      " [0. 0. 0. 0.]\n",
      " [0. 0. 0. 0.]]\n"
     ]
    }
   ],
   "source": [
    "# 2.\n",
    "# a. \n",
    "print(np.zeros(10))\n",
    "# b. \n",
    "print(np.zeros((3, 4)))"
   ]
  },
  {
   "cell_type": "code",
   "execution_count": 20,
   "id": "4a6217b5-5b09-4095-9759-9f16b67a0424",
   "metadata": {},
   "outputs": [
    {
     "name": "stdout",
     "output_type": "stream",
     "text": [
      "[ 2.   4.5  7.   9.5 12. ]\n",
      "[3. 5. 7. 9.]\n"
     ]
    }
   ],
   "source": [
    "# 3. \n",
    "# a. \n",
    "print(np.linspace(2, 12, 5))\n",
    "# b. \n",
    "print(np.linspace(3, 9, 4))"
   ]
  },
  {
   "cell_type": "code",
   "execution_count": 188,
   "id": "835eec15-cda3-47ac-9ca4-37dcab1443be",
   "metadata": {},
   "outputs": [
    {
     "name": "stdout",
     "output_type": "stream",
     "text": [
      "[[0.02649575 0.24933312]\n",
      " [0.96852745 0.15075079]\n",
      " [0.3173104  0.46038184]\n",
      " [0.73552132 0.57229125]]\n",
      "[[15 16 19]\n",
      " [19 16 20]\n",
      " [17 17 16]]\n",
      "[[0.02649575 0.24933312 0.96852745 0.15075079 0.3173104  0.46038184\n",
      "  0.73552132 0.57229125]]\n"
     ]
    }
   ],
   "source": [
    "# 4. \n",
    "# a. \n",
    "rands = np.random.rand(4, 2)\n",
    "print(rands)\n",
    "# b. \n",
    "print(np.random.randint(10, 21, (3, 3)))\n",
    "# reshape\n",
    "print(np.reshape(rands, (1, 8))) # need to confirm that the amount of elements similar to the reshape elements given"
   ]
  },
  {
   "cell_type": "code",
   "execution_count": null,
   "id": "2e464ee4-b39e-47ef-9de2-3905ca81e9fa",
   "metadata": {},
   "outputs": [],
   "source": [
    "# 5. \n",
    "# We will get the same random of numbers by that given seed\n",
    "# Seed using is good for making tests with different machins because that given seed does not change"
   ]
  }
 ],
 "metadata": {
  "kernelspec": {
   "display_name": "Python 3 (ipykernel)",
   "language": "python",
   "name": "python3"
  },
  "language_info": {
   "codemirror_mode": {
    "name": "ipython",
    "version": 3
   },
   "file_extension": ".py",
   "mimetype": "text/x-python",
   "name": "python",
   "nbconvert_exporter": "python",
   "pygments_lexer": "ipython3",
   "version": "3.12.5"
  }
 },
 "nbformat": 4,
 "nbformat_minor": 5
}
