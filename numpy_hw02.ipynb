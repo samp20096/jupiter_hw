{
 "cells": [
  {
   "cell_type": "code",
   "execution_count": 4,
   "id": "3145b322-d6e7-4183-b898-479d5d12f95a",
   "metadata": {},
   "outputs": [],
   "source": [
    "import numpy as np"
   ]
  },
  {
   "cell_type": "code",
   "execution_count": 12,
   "id": "63a3a6e2-35f7-4710-9b55-51634a2bdc04",
   "metadata": {},
   "outputs": [
    {
     "data": {
      "text/plain": [
       "array([[ 1,  2,  3,  4],\n",
       "       [ 5,  6,  7,  8],\n",
       "       [ 9, 10, 11, 12],\n",
       "       [13, 14, 15, 16]])"
      ]
     },
     "execution_count": 12,
     "metadata": {},
     "output_type": "execute_result"
    }
   ],
   "source": [
    "# 1. \n",
    "array01 = np.arange(1, 17)\n",
    "np.reshape(array01, (4, 4))"
   ]
  },
  {
   "cell_type": "code",
   "execution_count": 24,
   "id": "5011f76c-4e98-4685-b02d-8aacab99ae39",
   "metadata": {},
   "outputs": [
    {
     "data": {
      "text/plain": [
       "array([[10, 15, 20, 25],\n",
       "       [30, 35, 40, 45]])"
      ]
     },
     "execution_count": 24,
     "metadata": {},
     "output_type": "execute_result"
    }
   ],
   "source": [
    "# 2. \n",
    "array02 = np.arange(10, 50, 5)\n",
    "np.reshape(array02, (2, 4))"
   ]
  },
  {
   "cell_type": "code",
   "execution_count": 34,
   "id": "093b485c-b2aa-4654-a6c1-94cce66c34fd",
   "metadata": {},
   "outputs": [
    {
     "name": "stdout",
     "output_type": "stream",
     "text": [
      "Array:\n",
      " [[32 60 48]\n",
      " [57 62 69]\n",
      " [94  2 48]]\n",
      "Max value:\n",
      " 94\n",
      "Min value:\n",
      " 2\n"
     ]
    }
   ],
   "source": [
    "# 3. \n",
    "array_rand = np.random.randint(1, 100, (3, 3))\n",
    "print('Array:\\n', array_rand)\n",
    "print('Max value:\\n', np.max(array_rand))\n",
    "print('Min value:\\n', np.min(array_rand))"
   ]
  },
  {
   "cell_type": "code",
   "execution_count": 52,
   "id": "cbeeb5bb-7df4-430c-bb3b-f9e6a36307da",
   "metadata": {},
   "outputs": [
    {
     "data": {
      "text/plain": [
       "array([ 7, 14,  4,  2,  7,  6,  0, 10,  1,  8], dtype=int32)"
      ]
     },
     "metadata": {},
     "output_type": "display_data"
    },
    {
     "name": "stdout",
     "output_type": "stream",
     "text": [
      "First 5 elements:\n",
      " [ 7 14  4  2  7]\n",
      "All elements, jumps by 2:\n",
      " [7 4 7 0 1]\n",
      "Reversed array:\n",
      " [ 8  1 10  0  6  7  2  4 14  7]\n"
     ]
    }
   ],
   "source": [
    "# 4. \n",
    "array03 = np.random.randint(0, 20, 10)\n",
    "display(array03)\n",
    "print('First 5 elements:\\n', array03[:5])\n",
    "print('All elements, jumps by 2:\\n', array03[::2])\n",
    "print('Reversed array:\\n', array03[::-1])"
   ]
  },
  {
   "cell_type": "code",
   "execution_count": 80,
   "id": "f55784ee-2cda-419d-bf31-e66930331f48",
   "metadata": {},
   "outputs": [
    {
     "data": {
      "text/plain": [
       "array([[12, 10, 24, 15, 16],\n",
       "       [41, 36, 28, 19, 29],\n",
       "       [16, 37, 11,  2, 24],\n",
       "       [20, 23, 43, 22, 11]], dtype=int32)"
      ]
     },
     "metadata": {},
     "output_type": "display_data"
    },
    {
     "name": "stdout",
     "output_type": "stream",
     "text": [
      "Second row:\n",
      " [41 36 28 19 29]\n",
      "Fourth column:\n",
      " [15 19  2 22]\n"
     ]
    }
   ],
   "source": [
    "# 5. \n",
    "array04 = np.random.randint(1, 50, (4, 5))\n",
    "display(array04)\n",
    "print('Second row:\\n', array04[1])\n",
    "print('Fourth column:\\n', array04[::, 3])"
   ]
  },
  {
   "cell_type": "code",
   "execution_count": 102,
   "id": "ce589c2c-67cd-4772-895a-7e5530de2e39",
   "metadata": {},
   "outputs": [
    {
     "data": {
      "text/plain": [
       "array([32,  9, 24, 37, 88, 13, 21, 48, 19, 73, 44, 72, 36, 52, 31],\n",
       "      dtype=int32)"
      ]
     },
     "metadata": {},
     "output_type": "display_data"
    },
    {
     "name": "stdout",
     "output_type": "stream",
     "text": [
      "Max value index:\n",
      " 4\n",
      "Min value index:\n",
      " 1\n"
     ]
    },
    {
     "data": {
      "text/plain": [
       "array([32,  9, 24, 37, 88, 13, 21, 48, 19, 73, 44, 72, 36, 52, 31],\n",
       "      dtype=int32)"
      ]
     },
     "metadata": {},
     "output_type": "display_data"
    },
    {
     "name": "stdout",
     "output_type": "stream",
     "text": [
      "Divided by 5:\n",
      " []\n",
      "Lower then 10 and higher then 50:\n",
      " [ 9 88 73 72 52]\n"
     ]
    }
   ],
   "source": [
    "# 6. \n",
    "array05 = np.random.randint(0, 100, 15)\n",
    "display(array05)\n",
    "print('Max value index:\\n', np.argmax(array05))\n",
    "print('Min value index:\\n', np.argmin(array05))\n",
    "\n",
    "# 6. Continue\n",
    "array05_copy = np.copy(array05)\n",
    "display(array05_copy)\n",
    "print('Divided by 5:\\n', array05_copy[array05_copy % 5 == 0])\n",
    "print('Lower then 10 and higher then 50:\\n', array05_copy[(array05_copy > 50) | (array05_copy < 10)])"
   ]
  },
  {
   "cell_type": "code",
   "execution_count": 122,
   "id": "da533b60-1360-4dad-be60-b17903d49504",
   "metadata": {},
   "outputs": [
    {
     "data": {
      "text/plain": [
       "array([0.77132064, 0.02075195, 0.63364823, 0.74880388, 0.49850701,\n",
       "       0.22479665, 0.19806286, 0.76053071, 0.16911084, 0.08833981,\n",
       "       0.68535982, 0.95339335, 0.00394827, 0.51219226, 0.81262096])"
      ]
     },
     "metadata": {},
     "output_type": "display_data"
    },
    {
     "ename": "TypeError",
     "evalue": "'>' not supported between instances of 'int' and 'NoneType'",
     "output_type": "error",
     "traceback": [
      "\u001b[1;31m---------------------------------------------------------------------------\u001b[0m",
      "\u001b[1;31mTypeError\u001b[0m                                 Traceback (most recent call last)",
      "Cell \u001b[1;32mIn[122], line 11\u001b[0m\n\u001b[0;32m      9\u001b[0m result \u001b[38;5;241m=\u001b[39m array_rand[array_rand \u001b[38;5;241m>\u001b[39m \u001b[38;5;241m80\u001b[39m]\n\u001b[0;32m     10\u001b[0m result_len \u001b[38;5;241m=\u001b[39m \u001b[38;5;28mlen\u001b[39m(result)\n\u001b[1;32m---> 11\u001b[0m \u001b[38;5;28;01mif\u001b[39;00m \u001b[43mresult_len\u001b[49m\u001b[43m \u001b[49m\u001b[38;5;241;43m>\u001b[39;49m\u001b[43m \u001b[49m\u001b[43mcount\u001b[49m \u001b[38;5;129;01mor\u001b[39;00m count \u001b[38;5;241m==\u001b[39m \u001b[38;5;28;01mNone\u001b[39;00m:\n\u001b[0;32m     12\u001b[0m     seed_num_result \u001b[38;5;241m=\u001b[39m seed_num\n\u001b[0;32m     13\u001b[0m     count \u001b[38;5;241m=\u001b[39m result_len\n",
      "\u001b[1;31mTypeError\u001b[0m: '>' not supported between instances of 'int' and 'NoneType'"
     ]
    }
   ],
   "source": [
    "# Bonus. Didn't finish, let me know if I was on the diraction\n",
    "seed_num_result = None\n",
    "count = None\n",
    "seed_num = 10\n",
    "while seed_num <= 100:\n",
    "    np.random.seed(seed_num)\n",
    "    array_rand = np.random.ranf(15)\n",
    "    display(array_rand)\n",
    "    result = array_rand[array_rand > 80]\n",
    "    result_len = len(result)\n",
    "    if result_len > count or count == None:\n",
    "        seed_num_result = seed_num\n",
    "        count = result_len"
   ]
  }
 ],
 "metadata": {
  "kernelspec": {
   "display_name": "Python 3 (ipykernel)",
   "language": "python",
   "name": "python3"
  },
  "language_info": {
   "codemirror_mode": {
    "name": "ipython",
    "version": 3
   },
   "file_extension": ".py",
   "mimetype": "text/x-python",
   "name": "python",
   "nbconvert_exporter": "python",
   "pygments_lexer": "ipython3",
   "version": "3.12.5"
  }
 },
 "nbformat": 4,
 "nbformat_minor": 5
}
